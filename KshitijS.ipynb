{
 "metadata": {
  "language_info": {
   "codemirror_mode": {
    "name": "ipython",
    "version": 3
   },
   "file_extension": ".py",
   "mimetype": "text/x-python",
   "name": "python",
   "nbconvert_exporter": "python",
   "pygments_lexer": "ipython3",
   "version": "3.7.7-final"
  },
  "orig_nbformat": 2,
  "kernelspec": {
   "name": "python_defaultSpec_1599478865858",
   "display_name": "Python 3.7.7 64-bit"
  }
 },
 "nbformat": 4,
 "nbformat_minor": 2,
 "cells": [
  {
   "cell_type": "code",
   "execution_count": 43,
   "metadata": {
    "tags": []
   },
   "outputs": [],
   "source": [
    "import cv2\n",
    "image = cv2.imread('Chess.jpg')    #Image read through OpenCV"
   ]
  },
  {
   "cell_type": "code",
   "execution_count": 44,
   "metadata": {},
   "outputs": [],
   "source": [
    "cv2.imshow('img',image)          #Image display, exits on ESC trigger\n",
    "k=cv2.waitKey(0) & 0xFF\n",
    "if k == 27:\n",
    "    cv2.destroyAllWindows()"
   ]
  },
  {
   "cell_type": "code",
   "execution_count": 45,
   "metadata": {},
   "outputs": [],
   "source": [
    "grayscale = cv2.cvtColor(image, cv2.COLOR_BGR2GRAY)    #Image BGR to Grayscale conversion"
   ]
  },
  {
   "cell_type": "code",
   "execution_count": 46,
   "metadata": {},
   "outputs": [],
   "source": [
    "cv2.imshow('img',grayscale)\n",
    "k=cv2.waitKey(0) & 0xFF\n",
    "if k == 27:\n",
    "    cv2.destroyAllWindows()"
   ]
  },
  {
   "cell_type": "code",
   "execution_count": 47,
   "metadata": {},
   "outputs": [],
   "source": [
    "x_filter = cv2.Sobel(image, cv2.CV_64F, 1, 0, ksize=3)    #Sobel X+ filter with kernel size = 3\n"
   ]
  },
  {
   "cell_type": "code",
   "execution_count": 48,
   "metadata": {},
   "outputs": [],
   "source": [
    "cv2.imshow('img',x_filter)\n",
    "k=cv2.waitKey(0) & 0xFF\n",
    "if k == 27:\n",
    "    cv2.destroyAllWindows()"
   ]
  },
  {
   "cell_type": "code",
   "execution_count": 49,
   "metadata": {},
   "outputs": [],
   "source": [
    "y_filter = cv2.Sobel(image, cv2.CV_64F, 0, 1, ksize=5)    #Sobel Y+ filter with kernel size = 5"
   ]
  },
  {
   "cell_type": "code",
   "execution_count": 50,
   "metadata": {},
   "outputs": [],
   "source": [
    "cv2.imshow('img',y_filter)\n",
    "k=cv2.waitKey(0) & 0xFF\n",
    "if k == 27:\n",
    "    cv2.destroyAllWindows()"
   ]
  },
  {
   "cell_type": "code",
   "execution_count": 51,
   "metadata": {},
   "outputs": [],
   "source": [
    "ret,thresh = cv2.threshold(image, 200, 255, cv2.THRESH_BINARY)   #Binary threshold perform on image"
   ]
  },
  {
   "cell_type": "code",
   "execution_count": 52,
   "metadata": {},
   "outputs": [],
   "source": [
    "cv2.imshow('img',thresh)\n",
    "k=cv2.waitKey(0) & 0xFF\n",
    "if k == 27:\n",
    "    cv2.destroyAllWindows()"
   ]
  }
 ]
}